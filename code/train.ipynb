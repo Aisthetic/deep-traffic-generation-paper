{
 "cells": [
  {
   "cell_type": "code",
   "execution_count": 1,
   "metadata": {},
   "outputs": [
    {
     "name": "stderr",
     "output_type": "stream",
     "text": [
      "Global seed set to 42\n"
     ]
    }
   ],
   "source": [
    "import os\n",
    "os.environ['USE_PYGEOS'] = '0'\n",
    "import geopandas\n",
    "from argparse import ArgumentParser\n",
    "\n",
    "import lightning.pytorch as pl\n",
    "from lightning.pytorch import LightningModule, Trainer\n",
    "from lightning.pytorch.callbacks import EarlyStopping, ModelCheckpoint\n",
    "from lightning.pytorch import LightningModule\n",
    "from lightning.pytorch.loggers import TensorBoardLogger\n",
    "from sklearn.preprocessing import MinMaxScaler\n",
    "from deep_traffic_generation.fcvae import FCVAE\n",
    "\n",
    "from deep_traffic_generation.core.abstract import AE, VAE\n",
    "from deep_traffic_generation.core.datasets import TrafficDataset\n",
    "from deep_traffic_generation.core.lsr import VampPriorLSR, NormalLSR, ExemplarLSR\n",
    "from deep_traffic_generation.core.networks import FCN, RNN, TCN\n",
    "from deep_traffic_generation.core.utils import get_dataloaders\n",
    "\n",
    "# seed\n",
    "pl.seed_everything(42, workers=True)\n",
    "\n",
    "# enable autoreload\n",
    "%load_ext autoreload    \n",
    "%autoreload 2"
   ]
  },
  {
   "cell_type": "code",
   "execution_count": 2,
   "metadata": {},
   "outputs": [],
   "source": [
    "# ------------\n",
    "# args\n",
    "# ------------\n",
    "cls = FCVAE\n",
    "dataset_cls = TrafficDataset\n",
    "data_shape = \"linear\"\n",
    "\n",
    "parser = ArgumentParser()\n",
    "parser.add_argument(\n",
    "    \"--train_ratio\", dest=\"train_ratio\", type=float, default=0.8\n",
    ")\n",
    "parser.add_argument(\n",
    "    \"--val_ratio\", dest=\"val_ratio\", type=float, default=0.2\n",
    ")\n",
    "parser.add_argument(\n",
    "    \"--batch_size\", dest=\"batch_size\", type=int, default=1000\n",
    ")\n",
    "parser.add_argument(\n",
    "    \"--test_batch_size\",\n",
    "    dest=\"test_batch_size\",\n",
    "    type=int,\n",
    "    default=None,\n",
    ")\n",
    "parser.add_argument(\n",
    "    \"--early_stop\", dest=\"early_stop\", type=int, default=None\n",
    ")\n",
    "parser.add_argument(\n",
    "    \"--gradient_clip_val\", dest=\"gradient_clip_val\", type=float, default=0\n",
    ")\n",
    "parser = dataset_cls.add_argparse_args(parser)\n",
    "parser, _ = cls.add_model_specific_args(parser)\n",
    "args = parser.parse_args([])\n",
    "\n",
    "# Update the args object with the provided values\n",
    "args.data_path = \"../data/toy_dataset.parquet\"\n",
    "args.h_dims = [64, 32, 8]\n",
    "args.encoding_dim = 8\n",
    "args.lr_step_size = 200\n",
    "args.lr = 0.001\n",
    "args.lrgamma = 0.5\n",
    "args.dropout = 0.2\n",
    "args.features = [\"track\", \"groundspeed\", \"altitude\", \"timedelta\"]\n",
    "args.info_features = [\"latitude\", \"longitude\"]\n",
    "args.info_index = -1\n",
    "args.kld_coef = 2\n",
    "\n"
   ]
  },
  {
   "cell_type": "code",
   "execution_count": 3,
   "metadata": {},
   "outputs": [],
   "source": [
    "# ------------\n",
    "# data\n",
    "# ------------\n",
    "dataset = dataset_cls.from_file(\n",
    "    args.data_path,\n",
    "    features=args.features,\n",
    "    shape=data_shape,\n",
    "    scaler=MinMaxScaler(feature_range=(-1, 1)),\n",
    "    info_params={\"features\": args.info_features, \"index\": args.info_index},\n",
    ")\n",
    "\n",
    "train_loader, val_loader, test_loader = get_dataloaders(\n",
    "    dataset,\n",
    "    args.train_ratio,\n",
    "    args.val_ratio,\n",
    "    args.batch_size,\n",
    "    args.test_batch_size,\n",
    ")"
   ]
  },
  {
   "cell_type": "code",
   "execution_count": 4,
   "metadata": {},
   "outputs": [],
   "source": [
    "# ------------\n",
    "# logger\n",
    "# ------------\n",
    "tb_logger = TensorBoardLogger(\n",
    "    \"lightning_logs/\",\n",
    "    name=args.network_name,\n",
    "    default_hp_metric=False,\n",
    "    log_graph=True,\n",
    ")\n",
    "\n",
    "# ------------\n",
    "# model\n",
    "# ------------\n",
    "model = cls(\n",
    "    dataset_params=dataset.parameters,\n",
    "    config=args,\n",
    ")"
   ]
  },
  {
   "cell_type": "code",
   "execution_count": 5,
   "metadata": {},
   "outputs": [
    {
     "name": "stderr",
     "output_type": "stream",
     "text": [
      "GPU available: True (cuda), used: True\n",
      "TPU available: False, using: 0 TPU cores\n",
      "IPU available: False, using: 0 IPUs\n",
      "HPU available: False, using: 0 HPUs\n",
      "LOCAL_RANK: 0 - CUDA_VISIBLE_DEVICES: [0]\n",
      "\n",
      "  | Name      | Type      | Params | In sizes | Out sizes\n",
      "---------------------------------------------------------------\n",
      "0 | encoder   | FCN       | 53.8 K | [1, 800] | [1, 8]   \n",
      "1 | lsr       | NormalLSR | 160    | [1, 8]   | ?        \n",
      "2 | decoder   | FCN       | 54.7 K | [1, 8]   | [1, 800] \n",
      "3 | out_activ | Identity  | 0      | [1, 800] | [1, 800] \n",
      "---------------------------------------------------------------\n",
      "108 K     Trainable params\n",
      "16        Non-trainable params\n",
      "108 K     Total params\n",
      "0.435     Total estimated model params size (MB)\n",
      "c:\\Users\\Zak\\mambaforge\\envs\\traffic\\lib\\site-packages\\torch\\jit\\_trace.py:976: TracerWarning: Encountering a list at the output of the tracer might cause the trace to be incorrect, this is only valid if the container structure does not change based on the module's inputs. Consider using a constant container instead (e.g. for `list`, use a `tuple` instead. for `dict`, use a `NamedTuple` instead). If you absolutely need this and know the side effects, pass strict=False to trace() to allow this behavior.\n",
      "  module._c._create_method_from_trace(\n",
      "c:\\Users\\Zak\\mambaforge\\envs\\traffic\\lib\\site-packages\\torch\\jit\\_trace.py:1001: TracerWarning: Trace had nondeterministic nodes. Did you forget call .eval() on your model? Nodes:\n",
      "\t%eps : Float(1, 8, strides=[8, 1], requires_grad=0, device=cuda:0) = aten::normal(%197, %205, %206) # c:\\Users\\Zak\\mambaforge\\envs\\traffic\\lib\\site-packages\\torch\\distributions\\utils.py:46:0\n",
      "This may cause errors in trace checking. To disable trace checking, pass check_trace=False to torch.jit.trace()\n",
      "  _check_trace(\n",
      "c:\\Users\\Zak\\mambaforge\\envs\\traffic\\lib\\site-packages\\torch\\jit\\_trace.py:1001: TracerWarning: Output nr 1. of the traced function does not match the corresponding output of the Python function. Detailed error:\n",
      "Tensor-likes are not close!\n",
      "\n",
      "Mismatched elements: 8 / 8 (100.0%)\n",
      "Greatest absolute difference: 2.7431145906448364 at index (0, 3) (up to 1e-05 allowed)\n",
      "Greatest relative difference: 124.40890726229698 at index (0, 1) (up to 1e-05 allowed)\n",
      "  _check_trace(\n",
      "c:\\Users\\Zak\\mambaforge\\envs\\traffic\\lib\\site-packages\\torch\\jit\\_trace.py:1001: TracerWarning: Output nr 2. of the traced function does not match the corresponding output of the Python function. Detailed error:\n",
      "Tensor-likes are not close!\n",
      "\n",
      "Mismatched elements: 800 / 800 (100.0%)\n",
      "Greatest absolute difference: 0.19177375733852386 at index (0, 493) (up to 1e-05 allowed)\n",
      "Greatest relative difference: 8277.784660766962 at index (0, 653) (up to 1e-05 allowed)\n",
      "  _check_trace(\n"
     ]
    },
    {
     "data": {
      "application/vnd.jupyter.widget-view+json": {
       "model_id": "ab48fd812efc45938adbef723755cd6a",
       "version_major": 2,
       "version_minor": 0
      },
      "text/plain": [
       "Sanity Checking: 0it [00:00, ?it/s]"
      ]
     },
     "metadata": {},
     "output_type": "display_data"
    },
    {
     "data": {
      "application/vnd.jupyter.widget-view+json": {
       "model_id": "d986c526a0894300a5d1f86bcc1b3a5a",
       "version_major": 2,
       "version_minor": 0
      },
      "text/plain": [
       "Training: 0it [00:00, ?it/s]"
      ]
     },
     "metadata": {},
     "output_type": "display_data"
    },
    {
     "data": {
      "application/vnd.jupyter.widget-view+json": {
       "model_id": "b9adf842c57e47f5947a684ec95029a9",
       "version_major": 2,
       "version_minor": 0
      },
      "text/plain": [
       "Validation: 0it [00:00, ?it/s]"
      ]
     },
     "metadata": {},
     "output_type": "display_data"
    },
    {
     "data": {
      "application/vnd.jupyter.widget-view+json": {
       "model_id": "fe978ee8debe4ad68310878496d5b236",
       "version_major": 2,
       "version_minor": 0
      },
      "text/plain": [
       "Validation: 0it [00:00, ?it/s]"
      ]
     },
     "metadata": {},
     "output_type": "display_data"
    },
    {
     "data": {
      "application/vnd.jupyter.widget-view+json": {
       "model_id": "91e956448f1143f4b83c3f5e5542f921",
       "version_major": 2,
       "version_minor": 0
      },
      "text/plain": [
       "Validation: 0it [00:00, ?it/s]"
      ]
     },
     "metadata": {},
     "output_type": "display_data"
    },
    {
     "data": {
      "application/vnd.jupyter.widget-view+json": {
       "model_id": "866aaff941c245eeb6e7f4c782f13560",
       "version_major": 2,
       "version_minor": 0
      },
      "text/plain": [
       "Validation: 0it [00:00, ?it/s]"
      ]
     },
     "metadata": {},
     "output_type": "display_data"
    },
    {
     "data": {
      "application/vnd.jupyter.widget-view+json": {
       "model_id": "433e245af03d43368e66714a301f744f",
       "version_major": 2,
       "version_minor": 0
      },
      "text/plain": [
       "Validation: 0it [00:00, ?it/s]"
      ]
     },
     "metadata": {},
     "output_type": "display_data"
    },
    {
     "data": {
      "application/vnd.jupyter.widget-view+json": {
       "model_id": "e6e2db6db90240348bff56e1900fa170",
       "version_major": 2,
       "version_minor": 0
      },
      "text/plain": [
       "Validation: 0it [00:00, ?it/s]"
      ]
     },
     "metadata": {},
     "output_type": "display_data"
    },
    {
     "data": {
      "application/vnd.jupyter.widget-view+json": {
       "model_id": "21d33fc3d99347fcac5f94bcc5d2a3a3",
       "version_major": 2,
       "version_minor": 0
      },
      "text/plain": [
       "Validation: 0it [00:00, ?it/s]"
      ]
     },
     "metadata": {},
     "output_type": "display_data"
    },
    {
     "data": {
      "application/vnd.jupyter.widget-view+json": {
       "model_id": "e1009d75ed32426c9f85fc8dc0bf4099",
       "version_major": 2,
       "version_minor": 0
      },
      "text/plain": [
       "Validation: 0it [00:00, ?it/s]"
      ]
     },
     "metadata": {},
     "output_type": "display_data"
    },
    {
     "data": {
      "application/vnd.jupyter.widget-view+json": {
       "model_id": "9132353509df44439b0e631e9a374ce7",
       "version_major": 2,
       "version_minor": 0
      },
      "text/plain": [
       "Validation: 0it [00:00, ?it/s]"
      ]
     },
     "metadata": {},
     "output_type": "display_data"
    },
    {
     "data": {
      "application/vnd.jupyter.widget-view+json": {
       "model_id": "875fd712cb484d709faa722abf1d4df9",
       "version_major": 2,
       "version_minor": 0
      },
      "text/plain": [
       "Validation: 0it [00:00, ?it/s]"
      ]
     },
     "metadata": {},
     "output_type": "display_data"
    },
    {
     "ename": "TypeError",
     "evalue": "Trainer.test() got an unexpected keyword argument 'test_dataloaders'",
     "output_type": "error",
     "traceback": [
      "\u001b[1;31m---------------------------------------------------------------------------\u001b[0m",
      "\u001b[1;31mTypeError\u001b[0m                                 Traceback (most recent call last)",
      "Cell \u001b[1;32mIn[5], line 33\u001b[0m\n\u001b[0;32m     29\u001b[0m \u001b[39m# ------------\u001b[39;00m\n\u001b[0;32m     30\u001b[0m \u001b[39m# testing\u001b[39;00m\n\u001b[0;32m     31\u001b[0m \u001b[39m# ------------\u001b[39;00m\n\u001b[0;32m     32\u001b[0m \u001b[39mif\u001b[39;00m test_loader \u001b[39mis\u001b[39;00m \u001b[39mnot\u001b[39;00m \u001b[39mNone\u001b[39;00m:\n\u001b[1;32m---> 33\u001b[0m     trainer\u001b[39m.\u001b[39;49mtest(test_dataloaders\u001b[39m=\u001b[39;49mtest_loader)\n",
      "\u001b[1;31mTypeError\u001b[0m: Trainer.test() got an unexpected keyword argument 'test_dataloaders'"
     ]
    }
   ],
   "source": [
    "# ------------\n",
    "# training\n",
    "# ------------\n",
    "checkpoint_callback = ModelCheckpoint(monitor=\"hp/valid_loss\")\n",
    "# checkpoint_callback = ModelCheckpoint()\n",
    "if args.early_stop is not None:\n",
    "    early_stopping = EarlyStopping(\n",
    "        \"hp/valid_loss\", patience=args.early_stop\n",
    "    )\n",
    "    trainer = Trainer(\n",
    "        gradient_clip_val=args.gradient_clip_val,\n",
    "        callbacks=[checkpoint_callback, early_stopping],\n",
    "        logger=tb_logger,\n",
    "        # deterministic=True,\n",
    "    )\n",
    "else:\n",
    "    trainer = Trainer(\n",
    "        gradient_clip_val=args.gradient_clip_val,\n",
    "        callbacks=[checkpoint_callback],\n",
    "        logger=tb_logger,\n",
    "        # deterministic=True,\n",
    "    )\n",
    "\n",
    "if val_loader is not None:\n",
    "    trainer.fit(model, train_loader, val_loader)\n",
    "else:\n",
    "    trainer.fit(model, train_loader)\n",
    "\n",
    "# ------------\n",
    "# testing\n",
    "# ------------\n",
    "if test_loader is not None:\n",
    "    trainer.test(test_dataloaders=test_loader)"
   ]
  }
 ],
 "metadata": {
  "kernelspec": {
   "display_name": "traffic",
   "language": "python",
   "name": "python3"
  },
  "language_info": {
   "codemirror_mode": {
    "name": "ipython",
    "version": 3
   },
   "file_extension": ".py",
   "mimetype": "text/x-python",
   "name": "python",
   "nbconvert_exporter": "python",
   "pygments_lexer": "ipython3",
   "version": "3.10.8"
  },
  "orig_nbformat": 4
 },
 "nbformat": 4,
 "nbformat_minor": 2
}
